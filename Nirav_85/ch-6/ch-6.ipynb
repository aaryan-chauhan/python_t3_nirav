{
 "cells": [
  {
   "cell_type": "markdown",
   "metadata": {},
   "source": [
    "# Ch:6 Working with File"
   ]
  },
  {
   "cell_type": "markdown",
   "metadata": {},
   "source": [
    "* w : write mode\n",
    "* r : read mode\n",
    "* a : append mode\n",
    "* w+\n",
    "* r+\n",
    "* a+\n",
    "### Methods \n",
    "1. open()\n",
    "2. close()\n",
    "3. write() - (only String Data)\n",
    "4. writelines() : input List with String data\n",
    "5. read(size) : return string\n",
    "6. readline(size) : return first string\n",
    "7. readlines(hint) : return List of all the content\n",
    "8. tell() : tells the location of the pointer\n",
    "9. seek() : set the location of the pointer \n",
    "10. readable() : return boolean\n",
    "11. writable() : return boolean \n",
    "12. closed : return boolean"
   ]
  },
  {
   "cell_type": "code",
   "execution_count": 22,
   "metadata": {},
   "outputs": [],
   "source": [
    "fh = open('demo.txt','w')\n",
    "fh.write('Python\\n')\n",
    "fh.write('Java\\n')\n",
    "fh.writelines(['Hello\\n'])\n",
    "fh.writelines(['This is ','Pyhton Program\\n'])\n",
    "fh.close()"
   ]
  },
  {
   "cell_type": "code",
   "execution_count": null,
   "metadata": {},
   "outputs": [],
   "source": [
    "fh = open('demo.txt','a')\n",
    "fh.write('Python\\n')\n",
    "fh.write('Java\\n')\n",
    "fh.writelines(['Hello\\n'])\n",
    "fh.writelines(['This is ','Pyhton Program\\n'])\n",
    "fh.close()"
   ]
  },
  {
   "cell_type": "code",
   "execution_count": null,
   "metadata": {},
   "outputs": [],
   "source": [
    "fh = open('demo.txt')\n",
    "print(fh.tell())\n",
    "d = fh.read(10)\n",
    "print(fh.tell())\n",
    "fh.seek(3)\n",
    "data = fh.readline()\n",
    "print(data)\n",
    "fh.close()"
   ]
  },
  {
   "cell_type": "code",
   "execution_count": null,
   "metadata": {},
   "outputs": [],
   "source": [
    "a = open('demo.txt')\n",
    "print(type(a))"
   ]
  },
  {
   "cell_type": "code",
   "execution_count": 10,
   "metadata": {},
   "outputs": [
    {
     "name": "stdout",
     "output_type": "stream",
     "text": [
      "3.6666666666666665\n"
     ]
    }
   ],
   "source": [
    "a = open('cust.txt')\n",
    "data = a.read()\n",
    "s=0\n",
    "c=0\n",
    "for i in data:\n",
    "    if(i.isdigit()):\n",
    "        s= s + int(i)\n",
    "        c= c+1\n",
    "print(s/c)"
   ]
  },
  {
   "cell_type": "code",
   "execution_count": 21,
   "metadata": {},
   "outputs": [
    {
     "name": "stdout",
     "output_type": "stream",
     "text": [
      "Ram\n",
      "Shyam\n",
      "Jiya\n"
     ]
    }
   ],
   "source": [
    "b = open('cust.txt')\n",
    "dt = b.read().split()\n",
    "for i in range(0,len(dt),2):\n",
    "    print(dt[i][:-1])"
   ]
  },
  {
   "cell_type": "code",
   "execution_count": 3,
   "metadata": {},
   "outputs": [
    {
     "name": "stdout",
     "output_type": "stream",
     "text": [
      "True\n",
      "False\n",
      "False\n",
      "True\n"
     ]
    }
   ],
   "source": [
    "f = open('cust.txt','r')\n",
    "print(f.readable())\n",
    "print(f.writable())\n",
    "print(f.closed)\n",
    "f.close()\n",
    "print(f.closed)"
   ]
  },
  {
   "cell_type": "code",
   "execution_count": 9,
   "metadata": {},
   "outputs": [
    {
     "name": "stdout",
     "output_type": "stream",
     "text": [
      "htmlon\n",
      "Java\n",
      "Pyhton Program\n",
      "Have a great dayhtml\n"
     ]
    }
   ],
   "source": [
    "f = open('demo.txt','r+')\n",
    "f.seek(0)\n",
    "print(f.read())\n",
    "f.write('html')\n",
    "f.close()"
   ]
  },
  {
   "cell_type": "code",
   "execution_count": 12,
   "metadata": {},
   "outputs": [
    {
     "name": "stdout",
     "output_type": "stream",
     "text": [
      "Python\n"
     ]
    }
   ],
   "source": [
    "f= open('demo.txt','w+')\n",
    "f.write('Python')\n",
    "f.seek(0)\n",
    "print(f.read())"
   ]
  },
  {
   "cell_type": "code",
   "execution_count": 26,
   "metadata": {},
   "outputs": [
    {
     "name": "stdout",
     "output_type": "stream",
     "text": [
      "Py\n",
      "thon\n",
      "\n",
      "['java \\n', 'python program\\n']\n"
     ]
    }
   ],
   "source": [
    "f = open('demo.txt','r+')\n",
    "print(f.read(2))\n",
    "print(f.readline())\n",
    "print(f.readlines(20))"
   ]
  },
  {
   "cell_type": "code",
   "execution_count": 34,
   "metadata": {},
   "outputs": [
    {
     "name": "stdout",
     "output_type": "stream",
     "text": [
      "friends-2 , Friends-5 , We-1 , nothing-1 , are-7 , honest,-1 , friends,-1 , !-4 , key-1 , naughty-1 , is-1 , without-2 , crazy,-1 , Life-1 , best-1 , license-1 , not-1 , possible-1 , like-2 , keygen,-1 , new-1 , "
     ]
    }
   ],
   "source": [
    "f = open(\"python1.txt\",'r')\n",
    "data = f.read().split()\n",
    "ud=set(data)\n",
    "d = {}\n",
    "for i in ud:\n",
    "    d[i] = data.count(i)\n",
    "for i in d:\n",
    "    print(i + '-' + str(d[i]),end=\" , \")"
   ]
  },
  {
   "cell_type": "code",
   "execution_count": 49,
   "metadata": {},
   "outputs": [
    {
     "name": "stdout",
     "output_type": "stream",
     "text": [
      "line :  2\n",
      "Column :  9\n"
     ]
    }
   ],
   "source": [
    "f1 = open('python1.txt')\n",
    "f2 = open('python2.txt')\n",
    "data1 = f1.readlines()\n",
    "data2 = f2.readlines()\n",
    "for i in range(len(data1)):\n",
    "    for j in range(len(data1[i])):\n",
    "        if(data1[i][j]==data2[i][j]):\n",
    "            continue\n",
    "        else:\n",
    "            print(\"line : \",i+1)\n",
    "            print(\"Column : \",j+1)\n",
    "            break"
   ]
  },
  {
   "cell_type": "code",
   "execution_count": 59,
   "metadata": {},
   "outputs": [
    {
     "name": "stdout",
     "output_type": "stream",
     "text": [
      "Enter Somthing(for quit enter End) : Hi asdflh \n",
      "Enter Somthing(for quit enter End) : asdfjh \n",
      "Enter Somthing(for quit enter End) : END\n",
      "The Line started with Capital letters : \n",
      "Hi asdflh \n"
     ]
    }
   ],
   "source": [
    "f1 = open('python1.txt','w+')\n",
    "while(True):\n",
    "    st = input(\"Enter Somthing(for quit enter End) : \")\n",
    "    if(st==\"END\"):\n",
    "        break\n",
    "    else:\n",
    "        f1.write(st + '\\n')\n",
    "print(\"The Line started with Capital letters : \")\n",
    "f1.seek(0)\n",
    "for i in f1:\n",
    "    if i[0].isupper():\n",
    "        print(i,end=\"\")\n",
    "f1.close()"
   ]
  },
  {
   "cell_type": "code",
   "execution_count": 80,
   "metadata": {},
   "outputs": [],
   "source": [
    "f1 = open('file1.txt','r')\n",
    "f2 = open('file2.txt','w')\n",
    "data1 = f1.readlines()\n",
    "for i in data1:\n",
    "    if '#' not in i:\n",
    "        f2.write(i)\n",
    "    else:\n",
    "        if i[0]!='#':\n",
    "            m = i.index('#')\n",
    "            f2.write(i[:m]+'\\n')\n",
    "f1.close()\n",
    "f2.close()"
   ]
  },
  {
   "cell_type": "code",
   "execution_count": null,
   "metadata": {},
   "outputs": [],
   "source": []
  }
 ],
 "metadata": {
  "kernelspec": {
   "display_name": "Python 3",
   "language": "python",
   "name": "python3"
  },
  "language_info": {
   "codemirror_mode": {
    "name": "ipython",
    "version": 3
   },
   "file_extension": ".py",
   "mimetype": "text/x-python",
   "name": "python",
   "nbconvert_exporter": "python",
   "pygments_lexer": "ipython3",
   "version": "3.8.5"
  }
 },
 "nbformat": 4,
 "nbformat_minor": 4
}
