{
 "cells": [
  {
   "cell_type": "markdown",
   "metadata": {},
   "source": [
    "## CH-7  Modul & Directories"
   ]
  },
  {
   "cell_type": "code",
   "execution_count": null,
   "metadata": {},
   "outputs": [],
   "source": [
    "# 1. import filename\n",
    "# 2. import filename as __\n",
    "# 3. from filename import *"
   ]
  },
  {
   "cell_type": "code",
   "execution_count": null,
   "metadata": {},
   "outputs": [],
   "source": [
    "from demo import *\n",
    "mod1(\"Nirav\")\n",
    "print(A)"
   ]
  },
  {
   "cell_type": "code",
   "execution_count": null,
   "metadata": {},
   "outputs": [],
   "source": [
    "import module as m\n",
    "m.pb524(input(\"Enter String : \"))"
   ]
  },
  {
   "cell_type": "code",
   "execution_count": null,
   "metadata": {},
   "outputs": [],
   "source": [
    "import module1 as m1\n",
    "a1 = int(input(\"Enter Num1 : \"))\n",
    "a2 = int(input(\"Enter Num2 : \"))\n",
    "op = input(\"Enter Operation you want to do(+,-,/,*,%) : \")\n",
    "if(op=='+'):\n",
    "    print(m1.add(a1,a2))\n",
    "elif(op=='-'):\n",
    "    print(m1.sub(a1,a2))\n",
    "elif(op=='/'):\n",
    "    print(m1.div(a1,a2))\n",
    "elif(op=='*'):\n",
    "    print(m1.mul(a1,a2))\n",
    "elif(op=='%'):\n",
    "    print(m1.mod(a1,a2))"
   ]
  },
  {
   "cell_type": "code",
   "execution_count": null,
   "metadata": {},
   "outputs": [],
   "source": [
    "import module2 as m2\n",
    "s = input(\"Enter String : \")\n",
    "print(m2.fw(s))"
   ]
  },
  {
   "cell_type": "code",
   "execution_count": null,
   "metadata": {},
   "outputs": [],
   "source": [
    "import os\n",
    "print(os.getcwd())\n",
    "os.chdir(r\"C:\\Users\\LJENG.408B-91\\Desktop\")\n",
    "print(os.getcwd())"
   ]
  },
  {
   "cell_type": "code",
   "execution_count": null,
   "metadata": {},
   "outputs": [],
   "source": [
    "import os\n",
    "# print(os.mkdir(r\"C:\\Users\\LJENG.408B-91\\.ipynb_checkpoints\\a5\"))\n",
    "print(os.listdir())"
   ]
  },
  {
   "cell_type": "code",
   "execution_count": null,
   "metadata": {},
   "outputs": [],
   "source": [
    "import os\n",
    "os.remove(r\"C:\\Users\\LJENG.408B-91\\Desktop\\a.txt\")"
   ]
  },
  {
   "cell_type": "code",
   "execution_count": null,
   "metadata": {},
   "outputs": [],
   "source": [
    "import mod1\n",
    "import mod2\n",
    "A='Python'\n",
    "B='Java'\n",
    "print(A)\n",
    "print(mod1.A)\n",
    "print(mod2.A)\n",
    "print(B)\n",
    "print(mod1.B)\n",
    "print(mod2.B)\n",
    "mod1.demo()\n",
    "mod2.demo()"
   ]
  },
  {
   "cell_type": "code",
   "execution_count": 1,
   "metadata": {},
   "outputs": [
    {
     "name": "stdout",
     "output_type": "stream",
     "text": [
      "python\n",
      "java\n",
      "python\n",
      "java\n",
      "python\n",
      "java\n",
      "mod2\n",
      "mod2\n"
     ]
    }
   ],
   "source": [
    "from mod1 import *\n",
    "from mod2 import *\n",
    "A='python'\n",
    "B='java'\n",
    "print(A)\n",
    "print(B)\n",
    "print(A)\n",
    "print(B)\n",
    "print(A)\n",
    "print(B)\n",
    "demo()\n",
    "demo()"
   ]
  },
  {
   "cell_type": "code",
   "execution_count": null,
   "metadata": {},
   "outputs": [],
   "source": []
  }
 ],
 "metadata": {
  "kernelspec": {
   "display_name": "Python 3",
   "language": "python",
   "name": "python3"
  },
  "language_info": {
   "codemirror_mode": {
    "name": "ipython",
    "version": 3
   },
   "file_extension": ".py",
   "mimetype": "text/x-python",
   "name": "python",
   "nbconvert_exporter": "python",
   "pygments_lexer": "ipython3",
   "version": "3.8.5"
  }
 },
 "nbformat": 4,
 "nbformat_minor": 4
}
